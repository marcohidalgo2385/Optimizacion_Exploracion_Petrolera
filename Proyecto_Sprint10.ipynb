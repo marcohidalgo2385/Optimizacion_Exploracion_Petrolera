{
 "cells": [
  {
   "cell_type": "markdown",
   "metadata": {},
   "source": [
    "¡Hola!\n",
    "\n",
    "Mi nombre es Tonatiuh Cruz. Me complace revisar tu proyecto hoy.\n",
    "\n",
    "Al identificar cualquier error inicialmente, simplemente los destacaré. Te animo a localizar y abordar los problemas de forma independiente como parte de tu preparación para un rol como data-scientist. En un entorno profesional, tu líder de equipo seguiría un enfoque similar. Si encuentras la tarea desafiante, proporcionaré una pista más específica en la próxima iteración.\n",
    "\n",
    "Encontrarás mis comentarios a continuación - **por favor no los muevas, modifiques o elimines**.\n",
    "\n",
    "Puedes encontrar mis comentarios en cajas verdes, amarillas o rojas como esta:\n",
    "\n",
    "<div class=\"alert alert-block alert-success\">\n",
    "<b>Comentario del revisor</b> <a class=\"tocSkip\"></a>\n",
    "\n",
    "Éxito. Todo está hecho correctamente.\n",
    "</div>\n",
    "\n",
    "<div class=\"alert alert-block alert-warning\">\n",
    "<b>Comentario del revisor</b> <a class=\"tocSkip\"></a>\n",
    "\n",
    "Observaciones. Algunas recomendaciones.\n",
    "</div>\n",
    "\n",
    "<div class=\"alert alert-block alert-danger\">\n",
    "<b>Comentario del revisor</b> <a class=\"tocSkip\"></a>\n",
    "\n",
    "Necesita corrección. El bloque requiere algunas correcciones. El trabajo no puede ser aceptado con comentarios en rojo.\n",
    "</div>\n",
    "\n",
    "Puedes responderme utilizando esto:\n",
    "\n",
    "<div class=\"alert alert-block alert-info\">\n",
    "<b>Respuesta del estudiante.</b> <a class=\"tocSkip\"></a>\n",
    "</div>"
   ]
  },
  {
   "cell_type": "markdown",
   "metadata": {},
   "source": [
    "# Proyecto Aprendizaje Automático en Negocios (Caso OilyGiant)"
   ]
  },
  {
   "cell_type": "markdown",
   "metadata": {},
   "source": [
    "## Introducción\n",
    "\n",
    "La extracción de petróleo es una industria crucial para el suministro energético global. En este proyecto, hemos sido encargados por OilyGiant para identificar las mejores ubicaciones donde abrir 200 nuevos pozos petroleros. Nuestro objetivo es maximizar el beneficio total mientras minimizamos los riesgos asociados.\n",
    "\n",
    "Para lograrlo, utilizaremos técnicas avanzadas de análisis de datos y modelado predictivo. En particular, aplicaremos bootstrapping para evaluar los beneficios y riesgos potenciales en tres regiones con muestras de crudo. A través de este enfoque, determinaremos la región con el mayor margen de beneficio y presentaremos nuestras recomendaciones al cliente."
   ]
  },
  {
   "cell_type": "markdown",
   "metadata": {},
   "source": [
    "## Objetivos\n",
    "\n",
    "* Crear un modelo preciso que estime el volumen de reservas en los nuevos pozos petroleros.\n",
    "\n",
    "* Identificar los pozos con los valores estimados más altos y evaluar su viabilidad.\n",
    "\n",
    "* Utilizar bootstrapping para evaluar los beneficios potenciales y los riesgos asociados en cada región.\n",
    "\n",
    "* Seleccionar la región óptima que maximice el beneficio total para OilyGiant."
   ]
  },
  {
   "cell_type": "markdown",
   "metadata": {},
   "source": [
    "## Información General del Proyecto"
   ]
  },
  {
   "cell_type": "markdown",
   "metadata": {},
   "source": [
    "### Carga de librerías"
   ]
  },
  {
   "cell_type": "code",
   "execution_count": 2,
   "metadata": {},
   "outputs": [],
   "source": [
    "#importación de librerías\n",
    "import pandas as pd\n",
    "import numpy as np\n",
    "import matplotlib.pyplot as plt\n",
    "import seaborn as sns\n",
    "from sklearn.dummy import DummyClassifier\n",
    "from sklearn.tree import DecisionTreeClassifier\n",
    "from sklearn.ensemble import RandomForestClassifier\n",
    "from sklearn.linear_model import LogisticRegression\n",
    "from sklearn.ensemble import RandomForestRegressor\n",
    "from sklearn.tree import DecisionTreeRegressor\n",
    "from sklearn.metrics import accuracy_score\n",
    "from sklearn.linear_model import LinearRegression\n",
    "from sklearn.model_selection import train_test_split\n",
    "from sklearn.metrics import mean_squared_error\n",
    "from sklearn.metrics import f1_score\n",
    "from sklearn.utils import shuffle\n",
    "from sklearn.metrics import roc_curve\n",
    "import matplotlib.pyplot as plt\n",
    "from sklearn.metrics import roc_auc_score\n",
    "from sklearn.metrics import r2_score"
   ]
  },
  {
   "cell_type": "markdown",
   "metadata": {},
   "source": [
    "### Carga de Base de Datos"
   ]
  },
  {
   "cell_type": "code",
   "execution_count": 3,
   "metadata": {},
   "outputs": [
    {
     "data": {
      "text/html": [
       "<div>\n",
       "<style scoped>\n",
       "    .dataframe tbody tr th:only-of-type {\n",
       "        vertical-align: middle;\n",
       "    }\n",
       "\n",
       "    .dataframe tbody tr th {\n",
       "        vertical-align: top;\n",
       "    }\n",
       "\n",
       "    .dataframe thead th {\n",
       "        text-align: right;\n",
       "    }\n",
       "</style>\n",
       "<table border=\"1\" class=\"dataframe\">\n",
       "  <thead>\n",
       "    <tr style=\"text-align: right;\">\n",
       "      <th></th>\n",
       "      <th>id</th>\n",
       "      <th>f0</th>\n",
       "      <th>f1</th>\n",
       "      <th>f2</th>\n",
       "      <th>product</th>\n",
       "    </tr>\n",
       "  </thead>\n",
       "  <tbody>\n",
       "    <tr>\n",
       "      <th>0</th>\n",
       "      <td>txEyH</td>\n",
       "      <td>0.705745</td>\n",
       "      <td>-0.497823</td>\n",
       "      <td>1.221170</td>\n",
       "      <td>105.280062</td>\n",
       "    </tr>\n",
       "    <tr>\n",
       "      <th>1</th>\n",
       "      <td>2acmU</td>\n",
       "      <td>1.334711</td>\n",
       "      <td>-0.340164</td>\n",
       "      <td>4.365080</td>\n",
       "      <td>73.037750</td>\n",
       "    </tr>\n",
       "    <tr>\n",
       "      <th>2</th>\n",
       "      <td>409Wp</td>\n",
       "      <td>1.022732</td>\n",
       "      <td>0.151990</td>\n",
       "      <td>1.419926</td>\n",
       "      <td>85.265647</td>\n",
       "    </tr>\n",
       "    <tr>\n",
       "      <th>3</th>\n",
       "      <td>iJLyR</td>\n",
       "      <td>-0.032172</td>\n",
       "      <td>0.139033</td>\n",
       "      <td>2.978566</td>\n",
       "      <td>168.620776</td>\n",
       "    </tr>\n",
       "    <tr>\n",
       "      <th>4</th>\n",
       "      <td>Xdl7t</td>\n",
       "      <td>1.988431</td>\n",
       "      <td>0.155413</td>\n",
       "      <td>4.751769</td>\n",
       "      <td>154.036647</td>\n",
       "    </tr>\n",
       "    <tr>\n",
       "      <th>...</th>\n",
       "      <td>...</td>\n",
       "      <td>...</td>\n",
       "      <td>...</td>\n",
       "      <td>...</td>\n",
       "      <td>...</td>\n",
       "    </tr>\n",
       "    <tr>\n",
       "      <th>99995</th>\n",
       "      <td>DLsed</td>\n",
       "      <td>0.971957</td>\n",
       "      <td>0.370953</td>\n",
       "      <td>6.075346</td>\n",
       "      <td>110.744026</td>\n",
       "    </tr>\n",
       "    <tr>\n",
       "      <th>99996</th>\n",
       "      <td>QKivN</td>\n",
       "      <td>1.392429</td>\n",
       "      <td>-0.382606</td>\n",
       "      <td>1.273912</td>\n",
       "      <td>122.346843</td>\n",
       "    </tr>\n",
       "    <tr>\n",
       "      <th>99997</th>\n",
       "      <td>3rnvd</td>\n",
       "      <td>1.029585</td>\n",
       "      <td>0.018787</td>\n",
       "      <td>-1.348308</td>\n",
       "      <td>64.375443</td>\n",
       "    </tr>\n",
       "    <tr>\n",
       "      <th>99998</th>\n",
       "      <td>7kl59</td>\n",
       "      <td>0.998163</td>\n",
       "      <td>-0.528582</td>\n",
       "      <td>1.583869</td>\n",
       "      <td>74.040764</td>\n",
       "    </tr>\n",
       "    <tr>\n",
       "      <th>99999</th>\n",
       "      <td>1CWhH</td>\n",
       "      <td>1.764754</td>\n",
       "      <td>-0.266417</td>\n",
       "      <td>5.722849</td>\n",
       "      <td>149.633246</td>\n",
       "    </tr>\n",
       "  </tbody>\n",
       "</table>\n",
       "<p>100000 rows × 5 columns</p>\n",
       "</div>"
      ],
      "text/plain": [
       "          id        f0        f1        f2     product\n",
       "0      txEyH  0.705745 -0.497823  1.221170  105.280062\n",
       "1      2acmU  1.334711 -0.340164  4.365080   73.037750\n",
       "2      409Wp  1.022732  0.151990  1.419926   85.265647\n",
       "3      iJLyR -0.032172  0.139033  2.978566  168.620776\n",
       "4      Xdl7t  1.988431  0.155413  4.751769  154.036647\n",
       "...      ...       ...       ...       ...         ...\n",
       "99995  DLsed  0.971957  0.370953  6.075346  110.744026\n",
       "99996  QKivN  1.392429 -0.382606  1.273912  122.346843\n",
       "99997  3rnvd  1.029585  0.018787 -1.348308   64.375443\n",
       "99998  7kl59  0.998163 -0.528582  1.583869   74.040764\n",
       "99999  1CWhH  1.764754 -0.266417  5.722849  149.633246\n",
       "\n",
       "[100000 rows x 5 columns]"
      ]
     },
     "execution_count": 3,
     "metadata": {},
     "output_type": "execute_result"
    }
   ],
   "source": [
    "#Carga de datasets de las tres regiones geológicas\n",
    "geo1 = pd.read_csv(\"/datasets/geo_data_0.csv\")\n",
    "geo1"
   ]
  },
  {
   "cell_type": "code",
   "execution_count": 4,
   "metadata": {},
   "outputs": [
    {
     "data": {
      "text/html": [
       "<div>\n",
       "<style scoped>\n",
       "    .dataframe tbody tr th:only-of-type {\n",
       "        vertical-align: middle;\n",
       "    }\n",
       "\n",
       "    .dataframe tbody tr th {\n",
       "        vertical-align: top;\n",
       "    }\n",
       "\n",
       "    .dataframe thead th {\n",
       "        text-align: right;\n",
       "    }\n",
       "</style>\n",
       "<table border=\"1\" class=\"dataframe\">\n",
       "  <thead>\n",
       "    <tr style=\"text-align: right;\">\n",
       "      <th></th>\n",
       "      <th>id</th>\n",
       "      <th>f0</th>\n",
       "      <th>f1</th>\n",
       "      <th>f2</th>\n",
       "      <th>product</th>\n",
       "    </tr>\n",
       "  </thead>\n",
       "  <tbody>\n",
       "    <tr>\n",
       "      <th>0</th>\n",
       "      <td>kBEdx</td>\n",
       "      <td>-15.001348</td>\n",
       "      <td>-8.276000</td>\n",
       "      <td>-0.005876</td>\n",
       "      <td>3.179103</td>\n",
       "    </tr>\n",
       "    <tr>\n",
       "      <th>1</th>\n",
       "      <td>62mP7</td>\n",
       "      <td>14.272088</td>\n",
       "      <td>-3.475083</td>\n",
       "      <td>0.999183</td>\n",
       "      <td>26.953261</td>\n",
       "    </tr>\n",
       "    <tr>\n",
       "      <th>2</th>\n",
       "      <td>vyE1P</td>\n",
       "      <td>6.263187</td>\n",
       "      <td>-5.948386</td>\n",
       "      <td>5.001160</td>\n",
       "      <td>134.766305</td>\n",
       "    </tr>\n",
       "    <tr>\n",
       "      <th>3</th>\n",
       "      <td>KcrkZ</td>\n",
       "      <td>-13.081196</td>\n",
       "      <td>-11.506057</td>\n",
       "      <td>4.999415</td>\n",
       "      <td>137.945408</td>\n",
       "    </tr>\n",
       "    <tr>\n",
       "      <th>4</th>\n",
       "      <td>AHL4O</td>\n",
       "      <td>12.702195</td>\n",
       "      <td>-8.147433</td>\n",
       "      <td>5.004363</td>\n",
       "      <td>134.766305</td>\n",
       "    </tr>\n",
       "    <tr>\n",
       "      <th>...</th>\n",
       "      <td>...</td>\n",
       "      <td>...</td>\n",
       "      <td>...</td>\n",
       "      <td>...</td>\n",
       "      <td>...</td>\n",
       "    </tr>\n",
       "    <tr>\n",
       "      <th>99995</th>\n",
       "      <td>QywKC</td>\n",
       "      <td>9.535637</td>\n",
       "      <td>-6.878139</td>\n",
       "      <td>1.998296</td>\n",
       "      <td>53.906522</td>\n",
       "    </tr>\n",
       "    <tr>\n",
       "      <th>99996</th>\n",
       "      <td>ptvty</td>\n",
       "      <td>-10.160631</td>\n",
       "      <td>-12.558096</td>\n",
       "      <td>5.005581</td>\n",
       "      <td>137.945408</td>\n",
       "    </tr>\n",
       "    <tr>\n",
       "      <th>99997</th>\n",
       "      <td>09gWa</td>\n",
       "      <td>-7.378891</td>\n",
       "      <td>-3.084104</td>\n",
       "      <td>4.998651</td>\n",
       "      <td>137.945408</td>\n",
       "    </tr>\n",
       "    <tr>\n",
       "      <th>99998</th>\n",
       "      <td>rqwUm</td>\n",
       "      <td>0.665714</td>\n",
       "      <td>-6.152593</td>\n",
       "      <td>1.000146</td>\n",
       "      <td>30.132364</td>\n",
       "    </tr>\n",
       "    <tr>\n",
       "      <th>99999</th>\n",
       "      <td>relB0</td>\n",
       "      <td>-3.426139</td>\n",
       "      <td>-7.794274</td>\n",
       "      <td>-0.003299</td>\n",
       "      <td>3.179103</td>\n",
       "    </tr>\n",
       "  </tbody>\n",
       "</table>\n",
       "<p>100000 rows × 5 columns</p>\n",
       "</div>"
      ],
      "text/plain": [
       "          id         f0         f1        f2     product\n",
       "0      kBEdx -15.001348  -8.276000 -0.005876    3.179103\n",
       "1      62mP7  14.272088  -3.475083  0.999183   26.953261\n",
       "2      vyE1P   6.263187  -5.948386  5.001160  134.766305\n",
       "3      KcrkZ -13.081196 -11.506057  4.999415  137.945408\n",
       "4      AHL4O  12.702195  -8.147433  5.004363  134.766305\n",
       "...      ...        ...        ...       ...         ...\n",
       "99995  QywKC   9.535637  -6.878139  1.998296   53.906522\n",
       "99996  ptvty -10.160631 -12.558096  5.005581  137.945408\n",
       "99997  09gWa  -7.378891  -3.084104  4.998651  137.945408\n",
       "99998  rqwUm   0.665714  -6.152593  1.000146   30.132364\n",
       "99999  relB0  -3.426139  -7.794274 -0.003299    3.179103\n",
       "\n",
       "[100000 rows x 5 columns]"
      ]
     },
     "execution_count": 4,
     "metadata": {},
     "output_type": "execute_result"
    }
   ],
   "source": [
    "geo2 = pd.read_csv(\"/datasets/geo_data_1.csv\")\n",
    "geo2"
   ]
  },
  {
   "cell_type": "code",
   "execution_count": 5,
   "metadata": {},
   "outputs": [
    {
     "data": {
      "text/html": [
       "<div>\n",
       "<style scoped>\n",
       "    .dataframe tbody tr th:only-of-type {\n",
       "        vertical-align: middle;\n",
       "    }\n",
       "\n",
       "    .dataframe tbody tr th {\n",
       "        vertical-align: top;\n",
       "    }\n",
       "\n",
       "    .dataframe thead th {\n",
       "        text-align: right;\n",
       "    }\n",
       "</style>\n",
       "<table border=\"1\" class=\"dataframe\">\n",
       "  <thead>\n",
       "    <tr style=\"text-align: right;\">\n",
       "      <th></th>\n",
       "      <th>id</th>\n",
       "      <th>f0</th>\n",
       "      <th>f1</th>\n",
       "      <th>f2</th>\n",
       "      <th>product</th>\n",
       "    </tr>\n",
       "  </thead>\n",
       "  <tbody>\n",
       "    <tr>\n",
       "      <th>0</th>\n",
       "      <td>fwXo0</td>\n",
       "      <td>-1.146987</td>\n",
       "      <td>0.963328</td>\n",
       "      <td>-0.828965</td>\n",
       "      <td>27.758673</td>\n",
       "    </tr>\n",
       "    <tr>\n",
       "      <th>1</th>\n",
       "      <td>WJtFt</td>\n",
       "      <td>0.262778</td>\n",
       "      <td>0.269839</td>\n",
       "      <td>-2.530187</td>\n",
       "      <td>56.069697</td>\n",
       "    </tr>\n",
       "    <tr>\n",
       "      <th>2</th>\n",
       "      <td>ovLUW</td>\n",
       "      <td>0.194587</td>\n",
       "      <td>0.289035</td>\n",
       "      <td>-5.586433</td>\n",
       "      <td>62.871910</td>\n",
       "    </tr>\n",
       "    <tr>\n",
       "      <th>3</th>\n",
       "      <td>q6cA6</td>\n",
       "      <td>2.236060</td>\n",
       "      <td>-0.553760</td>\n",
       "      <td>0.930038</td>\n",
       "      <td>114.572842</td>\n",
       "    </tr>\n",
       "    <tr>\n",
       "      <th>4</th>\n",
       "      <td>WPMUX</td>\n",
       "      <td>-0.515993</td>\n",
       "      <td>1.716266</td>\n",
       "      <td>5.899011</td>\n",
       "      <td>149.600746</td>\n",
       "    </tr>\n",
       "    <tr>\n",
       "      <th>...</th>\n",
       "      <td>...</td>\n",
       "      <td>...</td>\n",
       "      <td>...</td>\n",
       "      <td>...</td>\n",
       "      <td>...</td>\n",
       "    </tr>\n",
       "    <tr>\n",
       "      <th>99995</th>\n",
       "      <td>4GxBu</td>\n",
       "      <td>-1.777037</td>\n",
       "      <td>1.125220</td>\n",
       "      <td>6.263374</td>\n",
       "      <td>172.327046</td>\n",
       "    </tr>\n",
       "    <tr>\n",
       "      <th>99996</th>\n",
       "      <td>YKFjq</td>\n",
       "      <td>-1.261523</td>\n",
       "      <td>-0.894828</td>\n",
       "      <td>2.524545</td>\n",
       "      <td>138.748846</td>\n",
       "    </tr>\n",
       "    <tr>\n",
       "      <th>99997</th>\n",
       "      <td>tKPY3</td>\n",
       "      <td>-1.199934</td>\n",
       "      <td>-2.957637</td>\n",
       "      <td>5.219411</td>\n",
       "      <td>157.080080</td>\n",
       "    </tr>\n",
       "    <tr>\n",
       "      <th>99998</th>\n",
       "      <td>nmxp2</td>\n",
       "      <td>-2.419896</td>\n",
       "      <td>2.417221</td>\n",
       "      <td>-5.548444</td>\n",
       "      <td>51.795253</td>\n",
       "    </tr>\n",
       "    <tr>\n",
       "      <th>99999</th>\n",
       "      <td>V9kWn</td>\n",
       "      <td>-2.551421</td>\n",
       "      <td>-2.025625</td>\n",
       "      <td>6.090891</td>\n",
       "      <td>102.775767</td>\n",
       "    </tr>\n",
       "  </tbody>\n",
       "</table>\n",
       "<p>100000 rows × 5 columns</p>\n",
       "</div>"
      ],
      "text/plain": [
       "          id        f0        f1        f2     product\n",
       "0      fwXo0 -1.146987  0.963328 -0.828965   27.758673\n",
       "1      WJtFt  0.262778  0.269839 -2.530187   56.069697\n",
       "2      ovLUW  0.194587  0.289035 -5.586433   62.871910\n",
       "3      q6cA6  2.236060 -0.553760  0.930038  114.572842\n",
       "4      WPMUX -0.515993  1.716266  5.899011  149.600746\n",
       "...      ...       ...       ...       ...         ...\n",
       "99995  4GxBu -1.777037  1.125220  6.263374  172.327046\n",
       "99996  YKFjq -1.261523 -0.894828  2.524545  138.748846\n",
       "99997  tKPY3 -1.199934 -2.957637  5.219411  157.080080\n",
       "99998  nmxp2 -2.419896  2.417221 -5.548444   51.795253\n",
       "99999  V9kWn -2.551421 -2.025625  6.090891  102.775767\n",
       "\n",
       "[100000 rows x 5 columns]"
      ]
     },
     "execution_count": 5,
     "metadata": {},
     "output_type": "execute_result"
    }
   ],
   "source": [
    "geo3 = pd.read_csv(\"/datasets/geo_data_2.csv\")\n",
    "geo3"
   ]
  },
  {
   "cell_type": "markdown",
   "metadata": {},
   "source": [
    "## Preparación de Datos"
   ]
  },
  {
   "cell_type": "code",
   "execution_count": 31,
   "metadata": {},
   "outputs": [
    {
     "name": "stdout",
     "output_type": "stream",
     "text": [
      "<class 'pandas.core.frame.DataFrame'>\n",
      "RangeIndex: 100000 entries, 0 to 99999\n",
      "Data columns (total 5 columns):\n",
      " #   Column   Non-Null Count   Dtype  \n",
      "---  ------   --------------   -----  \n",
      " 0   id       100000 non-null  object \n",
      " 1   f0       100000 non-null  float64\n",
      " 2   f1       100000 non-null  float64\n",
      " 3   f2       100000 non-null  float64\n",
      " 4   product  100000 non-null  float64\n",
      "dtypes: float64(4), object(1)\n",
      "memory usage: 3.8+ MB\n",
      "                  f0             f1             f2        product\n",
      "count  100000.000000  100000.000000  100000.000000  100000.000000\n",
      "mean        0.500419       0.250143       2.502647      92.500000\n",
      "std         0.871832       0.504433       3.248248      44.288691\n",
      "min        -1.408605      -0.848218     -12.088328       0.000000\n",
      "25%        -0.072580      -0.200881       0.287748      56.497507\n",
      "50%         0.502360       0.250252       2.515969      91.849972\n",
      "75%         1.073581       0.700646       4.715088     128.564089\n",
      "max         2.362331       1.343769      16.003790     185.364347\n",
      "\n",
      "Existen: 0 duplicados\n"
     ]
    },
    {
     "data": {
      "image/png": "[encoded data removed]",
      "text/plain": [
       "<Figure size 640x480 with 1 Axes>"
      ]
     },
     "metadata": {},
     "output_type": "display_data"
    }
   ],
   "source": [
    "# Revisión General de los Datasets\n",
    "\n",
    "geo1.info()\n",
    "print(geo1.describe())\n",
    "print()\n",
    "print(\"Existen:\", geo1.duplicated().sum(), \"duplicados\")\n",
    "\n",
    "sns.boxplot(x=geo1['product'])\n",
    "plt.show()"
   ]
  },
  {
   "cell_type": "code",
   "execution_count": 30,
   "metadata": {},
   "outputs": [
    {
     "name": "stdout",
     "output_type": "stream",
     "text": [
      "<class 'pandas.core.frame.DataFrame'>\n",
      "RangeIndex: 100000 entries, 0 to 99999\n",
      "Data columns (total 5 columns):\n",
      " #   Column   Non-Null Count   Dtype  \n",
      "---  ------   --------------   -----  \n",
      " 0   id       100000 non-null  object \n",
      " 1   f0       100000 non-null  float64\n",
      " 2   f1       100000 non-null  float64\n",
      " 3   f2       100000 non-null  float64\n",
      " 4   product  100000 non-null  float64\n",
      "dtypes: float64(4), object(1)\n",
      "memory usage: 3.8+ MB\n",
      "                  f0             f1             f2        product\n",
      "count  100000.000000  100000.000000  100000.000000  100000.000000\n",
      "mean        1.141296      -4.796579       2.494541      68.825000\n",
      "std         8.965932       5.119872       1.703572      45.944423\n",
      "min       -31.609576     -26.358598      -0.018144       0.000000\n",
      "25%        -6.298551      -8.267985       1.000021      26.953261\n",
      "50%         1.153055      -4.813172       2.011479      57.085625\n",
      "75%         8.621015      -1.332816       3.999904     107.813044\n",
      "max        29.421755      18.734063       5.019721     137.945408\n",
      "\n",
      "Existen: 0 duplicados\n"
     ]
    },
    {
     "data": {
      "image/png": "[encoded data removed]",
      "text/plain": [
       "<Figure size 640x480 with 1 Axes>"
      ]
     },
     "metadata": {},
     "output_type": "display_data"
    }
   ],
   "source": [
    "# Revisión General de los Datasets\n",
    "\n",
    "geo2.info()\n",
    "print(geo2.describe())\n",
    "print()\n",
    "print(\"Existen:\", geo2.duplicated().sum(), \"duplicados\")\n",
    "\n",
    "sns.boxplot(x=geo2['product'])\n",
    "plt.show()"
   ]
  },
  {
   "cell_type": "code",
   "execution_count": 29,
   "metadata": {},
   "outputs": [
    {
     "name": "stdout",
     "output_type": "stream",
     "text": [
      "<class 'pandas.core.frame.DataFrame'>\n",
      "RangeIndex: 100000 entries, 0 to 99999\n",
      "Data columns (total 5 columns):\n",
      " #   Column   Non-Null Count   Dtype  \n",
      "---  ------   --------------   -----  \n",
      " 0   id       100000 non-null  object \n",
      " 1   f0       100000 non-null  float64\n",
      " 2   f1       100000 non-null  float64\n",
      " 3   f2       100000 non-null  float64\n",
      " 4   product  100000 non-null  float64\n",
      "dtypes: float64(4), object(1)\n",
      "memory usage: 3.8+ MB\n",
      "                  f0             f1             f2        product\n",
      "count  100000.000000  100000.000000  100000.000000  100000.000000\n",
      "mean        0.002023      -0.002081       2.495128      95.000000\n",
      "std         1.732045       1.730417       3.473445      44.749921\n",
      "min        -8.760004      -7.084020     -11.970335       0.000000\n",
      "25%        -1.162288      -1.174820       0.130359      59.450441\n",
      "50%         0.009424      -0.009482       2.484236      94.925613\n",
      "75%         1.158535       1.163678       4.858794     130.595027\n",
      "max         7.238262       7.844801      16.739402     190.029838\n",
      "\n",
      "Existen: 0 duplicados\n"
     ]
    },
    {
     "data": {
      "image/png": "[encoded data removed]",
      "text/plain": [
       "<Figure size 640x480 with 1 Axes>"
      ]
     },
     "metadata": {},
     "output_type": "display_data"
    }
   ],
   "source": [
    "# Revisión General de los Datasets\n",
    "\n",
    "geo3.info()\n",
    "print(geo3.describe())\n",
    "print()\n",
    "print(\"Existen:\", geo3.duplicated().sum(), \"duplicados\")\n",
    "\n",
    "sns.boxplot(x=geo3['product'])\n",
    "plt.show()"
   ]
  },
  {
   "cell_type": "markdown",
   "metadata": {},
   "source": [
    "* Se realiza la carga de los datasets de cada una de las regiones\n",
    "* Posterior a esto se realiza la verificación de valores ausentes y duplicados que pudieran presentarse sin encontrar novedades\n",
    "* Se realiza revision de outliers usando diagramas de caja para determinar valores atípicos, de las gráficas se desprende que no existen este tipo de valores que se deban corregir\n",
    "* Por último se verifica que el tipo de datos sean correctos, en esta ocasión no se requiere realizar ningún cambio"
   ]
  },
  {
   "cell_type": "markdown",
   "metadata": {},
   "source": [
    "<div class=\"alert alert-block alert-success\">\n",
    "<b>Comentario del revisor</b> <a class=\"tocSkip\"></a>\n",
    "\n",
    "Buena exploración inicial de los datos. En este punto ya tienes una idea general de cómo están distribuidos los datos de las diferentes regiones.\n",
    "</div>"
   ]
  },
  {
   "cell_type": "markdown",
   "metadata": {},
   "source": [
    "<div class=\"alert alert-block alert-danger\">\n",
    "<b>Comentario del revisor</b> <a class=\"tocSkip\"></a>\n",
    "\n",
    "Solamente te recomiendo hacer un análisis de outliers\n",
    "</div>"
   ]
  },
  {
   "cell_type": "markdown",
   "metadata": {},
   "source": [
    "<div class=\"alert alert-block alert-info\">\n",
    "<b>Siguiendo la recomendación del revisor y usando diagramas de caja se analizan valores atípicos que pudieran contener el dataset</b> <a class=\"tocSkip\"></a>\n",
    "</div>"
   ]
  },
  {
   "cell_type": "markdown",
   "metadata": {},
   "source": [
    "<div class=\"alert alert-block alert-success\">\n",
    "<b>Comentario del revisor</b> <a class=\"tocSkip\"></a>\n",
    "\n",
    "Gran trabajo con los ajustes!\n",
    "</div>"
   ]
  },
  {
   "cell_type": "markdown",
   "metadata": {},
   "source": [
    "## Entrenamiento y Prueba del Modelo"
   ]
  },
  {
   "cell_type": "code",
   "execution_count": 9,
   "metadata": {},
   "outputs": [
    {
     "name": "stdout",
     "output_type": "stream",
     "text": [
      "(75000, 3)\n",
      "(75000,)\n",
      "(25000, 3)\n",
      "(25000,)\n"
     ]
    }
   ],
   "source": [
    "### Región 1\n",
    "\n",
    "features1 = geo1.drop(['id','product'],axis=1)\n",
    "target1 = geo1['product']\n",
    "\n",
    "features_train1, features_valid1, target_train1, target_valid1 = train_test_split(features1,target1,test_size=0.25,random_state=54321)\n",
    "\n",
    "print(features_train1.shape)\n",
    "print(target_train1.shape)\n",
    "print(features_valid1.shape)\n",
    "print(target_valid1.shape)"
   ]
  },
  {
   "cell_type": "markdown",
   "metadata": {},
   "source": [
    "<div class=\"alert alert-block alert-warning\">\n",
    "<b>Comentario del revisor</b> <a class=\"tocSkip\"></a>\n",
    "\n",
    "Buen trabajo segmentando, solamente te recomiendo hacer el escalando la información. El escalado te puede ser muy útil para mejorar el rendimiento del modelo al asegurar que todas las características tienen el mismo rango. \n",
    "</div>\n",
    "\n"
   ]
  },
  {
   "cell_type": "code",
   "execution_count": 10,
   "metadata": {},
   "outputs": [
    {
     "name": "stdout",
     "output_type": "stream",
     "text": [
      "[110.10119015 122.70089493  84.02360311 ...  97.34624779 131.18932401\n",
      " 112.04038766]\n"
     ]
    }
   ],
   "source": [
    "# Entrenamiento por Región Geo1\n",
    "\n",
    "def predictions(features_train, target_train, features_valid):\n",
    "    model = LinearRegression()\n",
    "    model.fit(features_train, target_train)\n",
    "\n",
    "    predictions = model.predict(features_valid)\n",
    "\n",
    "    return predictions\n",
    "\n",
    "\n",
    "predictions1 = predictions(features_train1, target_train1, features_valid1)\n",
    "\n",
    "\n",
    "print(predictions1)\n"
   ]
  },
  {
   "cell_type": "code",
   "execution_count": 11,
   "metadata": {},
   "outputs": [
    {
     "name": "stdout",
     "output_type": "stream",
     "text": [
      "92.15921155743655\n"
     ]
    }
   ],
   "source": [
    "#Promedio Predicho Geo1\n",
    "\n",
    "def average_geo(predictions):\n",
    "    \n",
    "    average_geo = predictions.sum()/len(predictions)\n",
    "\n",
    "    return average_geo\n",
    "\n",
    "average_geo1 = average_geo(predictions1) \n",
    "\n",
    "print(average_geo1)\n",
    "\n"
   ]
  },
  {
   "cell_type": "code",
   "execution_count": 12,
   "metadata": {},
   "outputs": [
    {
     "name": "stdout",
     "output_type": "stream",
     "text": [
      "RMSE1: 37.68341093860808\n"
     ]
    }
   ],
   "source": [
    "# Calcula rmse Geo1\n",
    "\n",
    "def rmse(predictions, target_valid):\n",
    "    residuos = predictions - target_valid\n",
    "\n",
    "    # Calcula el RMSE\n",
    "    rmse = np.sqrt(mean_squared_error(target_valid, predictions))\n",
    "    return rmse\n",
    "    \n",
    "print(\"RMSE1:\", rmse(predictions1, target_valid1))\n",
    "\n"
   ]
  },
  {
   "cell_type": "code",
   "execution_count": 13,
   "metadata": {},
   "outputs": [
    {
     "name": "stdout",
     "output_type": "stream",
     "text": [
      "(75000, 3)\n",
      "(75000,)\n",
      "(25000, 3)\n",
      "(25000,)\n"
     ]
    }
   ],
   "source": [
    "### Región 2\n",
    "\n",
    "features2 = geo2.drop(['id','product'],axis=1)\n",
    "target2 = geo2['product']\n",
    "\n",
    "features_train2, features_valid2, target_train2, target_valid2 = train_test_split(features2,target2,test_size=0.25,random_state=54321)\n",
    "\n",
    "print(features_train2.shape)\n",
    "print(target_train2.shape)\n",
    "print(features_valid2.shape)\n",
    "print(target_valid2.shape)"
   ]
  },
  {
   "cell_type": "code",
   "execution_count": 14,
   "metadata": {},
   "outputs": [
    {
     "name": "stdout",
     "output_type": "stream",
     "text": [
      "[ 26.68414634   2.43485932 106.57884102 ...  83.82874899   2.88845354\n",
      "  29.44067583]\n"
     ]
    }
   ],
   "source": [
    "# Entrenamiento Región 2\n",
    "\n",
    "predictions2 = predictions(features_train2, target_train2, features_valid2)\n",
    "print(predictions2)"
   ]
  },
  {
   "cell_type": "code",
   "execution_count": 15,
   "metadata": {
    "scrolled": true
   },
   "outputs": [
    {
     "name": "stdout",
     "output_type": "stream",
     "text": [
      "68.44594093153303\n"
     ]
    }
   ],
   "source": [
    "#Promedio Predicho Geo2\n",
    "\n",
    "average_geo2 = average_geo(predictions2) \n",
    "\n",
    "print(average_geo2)\n",
    "\n"
   ]
  },
  {
   "cell_type": "code",
   "execution_count": 16,
   "metadata": {},
   "outputs": [
    {
     "name": "stdout",
     "output_type": "stream",
     "text": [
      "RMSE2: 0.8922819708481473\n"
     ]
    }
   ],
   "source": [
    "# Calcula rmse Geo2\n",
    "    \n",
    "print(\"RMSE2:\", rmse(predictions2, target_valid2))\n",
    "\n"
   ]
  },
  {
   "cell_type": "code",
   "execution_count": 17,
   "metadata": {},
   "outputs": [
    {
     "name": "stdout",
     "output_type": "stream",
     "text": [
      "(75000, 3)\n",
      "(75000,)\n",
      "(25000, 3)\n",
      "(25000,)\n"
     ]
    }
   ],
   "source": [
    "### Región 3\n",
    "\n",
    "features3 = geo3.drop(['id','product'],axis=1)\n",
    "target3 = geo3['product']\n",
    "\n",
    "features_train3, features_valid3, target_train3, target_valid3 = train_test_split(features3,target3,test_size=0.25,random_state=54321)\n",
    "\n",
    "print(features_train3.shape)\n",
    "print(target_train3.shape)\n",
    "print(features_valid3.shape)\n",
    "print(target_valid3.shape)"
   ]
  },
  {
   "cell_type": "code",
   "execution_count": 18,
   "metadata": {},
   "outputs": [
    {
     "name": "stdout",
     "output_type": "stream",
     "text": [
      "[ 90.61604045 102.20865398  62.19323797 ... 127.34285598  70.33268229\n",
      " 126.34202394]\n"
     ]
    }
   ],
   "source": [
    "# Entrenamiento Región 3\n",
    "\n",
    "predictions3 = predictions(features_train3, target_train3, features_valid3)\n",
    "\n",
    "print(predictions3)"
   ]
  },
  {
   "cell_type": "code",
   "execution_count": 19,
   "metadata": {
    "scrolled": true
   },
   "outputs": [
    {
     "name": "stdout",
     "output_type": "stream",
     "text": [
      "94.92229500787454\n"
     ]
    }
   ],
   "source": [
    "#Promedio Predicho Geo3\n",
    "\n",
    "average_geo3 = average_geo(predictions3) \n",
    "\n",
    "print(average_geo3)\n",
    "\n"
   ]
  },
  {
   "cell_type": "code",
   "execution_count": 20,
   "metadata": {},
   "outputs": [
    {
     "name": "stdout",
     "output_type": "stream",
     "text": [
      "RMSE3: 40.15250541784855\n"
     ]
    }
   ],
   "source": [
    "# Calcula rmse Geo3\n",
    "    \n",
    "print(\"RMSE3:\", rmse(predictions3, target_valid3))\n",
    "\n"
   ]
  },
  {
   "cell_type": "code",
   "execution_count": 21,
   "metadata": {
    "scrolled": true
   },
   "outputs": [
    {
     "data": {
      "image/png": "[encoded data removed]",
      "text/plain": [
       "<Figure size 640x480 with 1 Axes>"
      ]
     },
     "metadata": {},
     "output_type": "display_data"
    }
   ],
   "source": [
    "# Configuración de la gráfica de predicciones por region\n",
    "\n",
    "variables = ['Region1', 'Region2', 'Region3']\n",
    "valores = [average_geo1, average_geo2, average_geo3]\n",
    "\n",
    "# Crear el gráfico de barras\n",
    "plt.bar(variables, valores)\n",
    "plt.xlabel('Variables')\n",
    "plt.ylabel('Valores')\n",
    "plt.title('Unidades por Region')\n",
    "\n",
    "plt.show()"
   ]
  },
  {
   "cell_type": "markdown",
   "metadata": {},
   "source": [
    "* Analizando las predicciones por region podemos observar que la region 3 generaria ingresos por encima de las regiones 2 y ligeramente sobre la 1, sin embargo no es suficiente para tomar un decision aun\n",
    "\n",
    "* Ademas del resultado de RMSE podemos ver que nuestro modelo se encuentra haciendo buenas predicciones, especialmente para los datos de la region 2"
   ]
  },
  {
   "cell_type": "markdown",
   "metadata": {},
   "source": [
    "<div class=\"alert alert-block alert-success\">\n",
    "<b>Comentario del revisor</b> <a class=\"tocSkip\"></a>\n",
    "\n",
    "Implementaste el modelo de regresión logística de forma excelente para los 3 conjuntos de datos! En este punto ya puedes obervar cuál es el modelo con el mayor $R^2$ y menor RMSE. A pesar de que la elección de la región 1 pareciera ser muy clara por estas dos métricas, su volumen es significativamente menor al de las otras regiones. Debido a esto es necesario realizar unos cuántos análisis más.\n",
    "</div>"
   ]
  },
  {
   "cell_type": "markdown",
   "metadata": {},
   "source": [
    "## Evaluar la Mejor Región para Inversión"
   ]
  },
  {
   "cell_type": "code",
   "execution_count": 22,
   "metadata": {},
   "outputs": [
    {
     "name": "stdout",
     "output_type": "stream",
     "text": [
      "92.50000000000001\n",
      "68.82500000000002\n",
      "95.00000000000004\n"
     ]
    }
   ],
   "source": [
    "#Promedio de reservas por region, target por region 111.1 unidades\n",
    "\n",
    "avg_geo1 = geo1['product'].mean()\n",
    "print(avg_geo1)\n",
    "\n",
    "avg_geo2 = geo2['product'].mean()\n",
    "print(avg_geo2)\n",
    "\n",
    "avg_geo3 = geo3['product'].mean()\n",
    "print(avg_geo3)"
   ]
  },
  {
   "cell_type": "markdown",
   "metadata": {},
   "source": [
    "* En promedio ninguna de las regiones supera los 111.1 unidades que se requieren para realizar una inversión, este analisis incluye el total de los pozos\n",
    "\n",
    "* Pero podemos evindenciar que la región 3 es la que en promedio presenta más unidades, con 95 unidades\n",
    "\n",
    "* Basado en este hallazgo, podríamos empezar explorandos los 200 mejores pozos por region para confirmar o desmentir lo dicho sobre la region 3"
   ]
  },
  {
   "cell_type": "markdown",
   "metadata": {},
   "source": [
    "## Cálculo de Ganancias"
   ]
  },
  {
   "cell_type": "code",
   "execution_count": 23,
   "metadata": {},
   "outputs": [
    {
     "name": "stdout",
     "output_type": "stream",
     "text": [
      "Las ganancias de la región 1 es: 139311815.2383101\n",
      "\n",
      "Las ganancias de la región 2 es: 124814117.57168561\n",
      "\n",
      "Las ganancias de la región 3 es: 133699030.29257256\n"
     ]
    },
    {
     "data": {
      "image/png": "[encoded data removed]",
      "text/plain": [
       "<Figure size 640x480 with 1 Axes>"
      ]
     },
     "metadata": {},
     "output_type": "display_data"
    }
   ],
   "source": [
    "# Transforma los arrays a series\n",
    "\n",
    "predictions1 = pd.Series(predictions1)\n",
    "predictions2 = pd.Series(predictions2)\n",
    "predictions3 = pd.Series(predictions3)\n",
    "\n",
    "# Funcion de para obtener los 200 mejores pozos por region de acuerdo con la prediccion\n",
    "def top(predictions):\n",
    "\n",
    "    top200 = np.argpartition(predictions, -200)[-200:]\n",
    "    top200 = pd.Series(predictions[top200])\n",
    "        \n",
    "    return top200\n",
    "\n",
    "top200_R1 = top(predictions1)\n",
    "top200_R2 = top(predictions2)\n",
    "top200_R3 = top(predictions3)\n",
    "\n",
    "# Funcion de calculo de ganancia de los 200 mejores pozos por region de acuerdo con la prediccion\n",
    "def ganancia(predictions):\n",
    "\n",
    "    top200 = np.argpartition(predictions, -200)[-200:]\n",
    "    top200 = pd.Series(predictions[top200])\n",
    "    revenue = (top200.sum())*4500\n",
    "    return revenue\n",
    "    return top200\n",
    "\n",
    "revenue1 = ganancia(predictions1)\n",
    "revenue2= ganancia(predictions2)\n",
    "revenue3 = ganancia(predictions3)\n",
    "print(\"Las ganancias de la región 1 es:\", revenue1)\n",
    "print()\n",
    "print(\"Las ganancias de la región 2 es:\", revenue2)\n",
    "print()\n",
    "print(\"Las ganancias de la región 3 es:\", revenue3)\n",
    "\n",
    "# Configuración de la gráfica\n",
    "\n",
    "variables = ['Region1', 'Region2', 'Region3']\n",
    "valores = [revenue1, revenue2, revenue3]\n",
    "\n",
    "# Crear el gráfico de barras\n",
    "plt.bar(variables, valores)\n",
    "plt.xlabel('Variables')\n",
    "plt.ylabel('Valores')\n",
    "plt.title('Ganancias por Region')\n",
    "\n",
    "plt.show()"
   ]
  },
  {
   "cell_type": "markdown",
   "metadata": {},
   "source": [
    "* De acuerdo con la comparativa de ganancias por region, tomando en cuenta los 200 pozos que mas generarian en la prediccion, se puede observar que tanto la region 1 y 3 podrian ser potenciales candidatas, mientras que la region 2 por esta ocasion no sera parte de esta etapa\n",
    "\n",
    "* Tomando en cuenta el monto de proyeccion de las ganancias, por una pequena diferencia, la region 1 seria la que mas ingresos genere a la empresa por la que la someteremos a pruebas adicionales para confirmar nuestra eleccion "
   ]
  },
  {
   "cell_type": "markdown",
   "metadata": {},
   "source": [
    "<div class=\"alert alert-block alert-success\">\n",
    "<b>Comentario del revisor</b> <a class=\"tocSkip\"></a>\n",
    "\n",
    "Muy bien calculado el beneficio bruto de las 3 regiones! Estos cálculos te ayudarán en la elección de la mejor región teniendo en cuenta también los beneficios brutos según las predicciones, pero a pesar de que el beneficio bruto sea mayor en tu conjunto data2, es necesario comprobar los riesgos que implica.\n",
    "</div>\n",
    "\n"
   ]
  },
  {
   "cell_type": "markdown",
   "metadata": {},
   "source": [
    "## Calculo de Riesgos y Ganancias por Region"
   ]
  },
  {
   "cell_type": "code",
   "execution_count": 24,
   "metadata": {
    "scrolled": false
   },
   "outputs": [
    {
     "name": "stdout",
     "output_type": "stream",
     "text": [
      "Calculo de Riesgo por Region\n",
      "\n",
      "Region1\n",
      "Beneficio Min: 741551.9362795784\n",
      "Beneficio Max: 760873.3203611933\n",
      "Beneficio Promedio: 749370.0518560936\n",
      "\n",
      "Region2\n",
      "Beneficio Min: 626011.2499487235\n",
      "Beneficio Max: 627175.6141920694\n",
      "Beneficio Promedio: 626532.7985802505\n",
      "\n",
      "Region3\n",
      "Beneficio Min: 710675.7475731525\n",
      "Beneficio Max: 743766.2371538646\n",
      "Beneficio Promedio: 725026.1916360541\n"
     ]
    }
   ],
   "source": [
    "#Bootstrapping\n",
    "\n",
    "def profit(top200):\n",
    "    state = np.random.RandomState(12345)\n",
    "\n",
    "    # Guarda los valores del cuantil del 95 % en la variable de valores\n",
    "    values = []\n",
    "    for i in range(1000):\n",
    "        subsample = top200.sample(frac=1, replace=True, random_state=state)\n",
    "        values.append(subsample.quantile(0.95))\n",
    "        # < escribe tu código aquí >\n",
    "\n",
    "    # < escribe tu código aquí >\n",
    "    values = pd.Series(values)\n",
    "\n",
    "    lower = (values.quantile(0.05))*4500# < escribe tu código aquí >\n",
    "    upper = (values.quantile(0.95))*4500# < escribe tu código aquí >\n",
    "    mean = (values.mean())*4500\n",
    "    return lower,upper,mean\n",
    "\n",
    "print(\"Calculo de Riesgo por Region\")\n",
    "print()\n",
    "print(\"Region1\")\n",
    "profit1 = profit(top200_R1)\n",
    "print(\"Beneficio Min:\", profit1[0])\n",
    "print(\"Beneficio Max:\", profit1[1])\n",
    "print(\"Beneficio Promedio:\", profit1[2])\n",
    "print()\n",
    "print(\"Region2\")\n",
    "profit2 = profit(top200_R2)\n",
    "print(\"Beneficio Min:\", profit2[0])\n",
    "print(\"Beneficio Max:\", profit2[1])\n",
    "print(\"Beneficio Promedio:\", profit2[2])\n",
    "print()\n",
    "print(\"Region3\")\n",
    "profit3 = profit(top200_R3)\n",
    "print(\"Beneficio Min:\", profit3[0])\n",
    "print(\"Beneficio Max:\", profit3[1])\n",
    "print(\"Beneficio Promedio:\", profit3[2])\n"
   ]
  },
  {
   "cell_type": "code",
   "execution_count": 25,
   "metadata": {},
   "outputs": [
    {
     "data": {
      "image/png": "[encoded data removed]",
      "text/plain": [
       "<Figure size 640x480 with 1 Axes>"
      ]
     },
     "metadata": {},
     "output_type": "display_data"
    }
   ],
   "source": [
    "# Configuración de la gráfica\n",
    "\n",
    "variables = ['Region1', 'Region2', 'Region3']\n",
    "valores = [profit1[2], profit2[2], profit3[2]]\n",
    "\n",
    "# Crear el gráfico de barras\n",
    "plt.bar(variables, valores)\n",
    "plt.xlabel('Variables')\n",
    "plt.ylabel('Valores')\n",
    "plt.title('Ganancias por Region')\n",
    "\n",
    "plt.show()"
   ]
  },
  {
   "cell_type": "markdown",
   "metadata": {},
   "source": [
    "* Utilizando bootstraping podemos visualizar que los resultados promedio usando boostrapping se parecen mucho a nuestra grafica de calculo de las ganancias anteriormente analizado\n",
    "\n",
    "* Esto ratifica nuestra eleccion acerca de la region 1 como la mejor opcion para abrir una nueva operacion"
   ]
  },
  {
   "cell_type": "code",
   "execution_count": 26,
   "metadata": {
    "scrolled": true
   },
   "outputs": [
    {
     "name": "stdout",
     "output_type": "stream",
     "text": [
      "Unidade minimas en Region 1: 147.65259511326417\n",
      "Unidade minimas en Region 2: 138.36373638976985\n",
      "Unidade minimas en Region 3: 142.17265913916506\n"
     ]
    }
   ],
   "source": [
    "#Verifica pozos del top200 con menos de 111.1 unidades para determinar si existe perdida por region\n",
    "\n",
    "print(\"Unidade minimas en Region 1:\",top200_R1.min())\n",
    "\n",
    "print(\"Unidade minimas en Region 2:\",top200_R2.min())\n",
    "\n",
    "print(\"Unidade minimas en Region 3:\",top200_R3.min())"
   ]
  },
  {
   "cell_type": "markdown",
   "metadata": {},
   "source": [
    "* De acuerdo con este análisis, del top 200 de pozos por region elegidas, ninguno estaria por debajo de las 111.1 unidades que se requieren para generar ganancia"
   ]
  },
  {
   "cell_type": "markdown",
   "metadata": {},
   "source": [
    "<div class=\"alert alert-block alert-warning\">\n",
    "<b>Comentario del revisor</b> <a class=\"tocSkip\"></a>\n",
    "\n",
    "Excelente trabajo calculando el beneficio promedio, los intervalos de confianza del 95% y el riesgo de pérdidas. El uso de percentiles para los intervalos de confianza es una muy buena práctica este tipo de análisis. Tus cálculos están bien fundamentados, solamente te recomiendo hacer simulaciones de bootstrap.\n",
    "</div>\n",
    "\n"
   ]
  },
  {
   "cell_type": "markdown",
   "metadata": {},
   "source": [
    "<div class=\"alert alert-block alert-success\">\n",
    "<b>Comentario del revisor</b> <a class=\"tocSkip\"></a>\n",
    "\n",
    "Gran trabajo con los ajustes!\n",
    "</div>"
   ]
  },
  {
   "cell_type": "markdown",
   "metadata": {},
   "source": [
    "## Conclusiones\n",
    "\n",
    "* La Región 1 es la mejor opción para perforar nuevos pozos de petróleo, ya que tiene el mayor ingreso promedio predicho y ningún pozo en el top 200 está por debajo de las unidades requeridas para obtener ganancias.\n",
    "\n",
    "* Se utilizaron gráficos de barras para comparar los ingresos promedio predichos de tres regiones, lo que ayudó a identificar la región más rentable.\n",
    "\n",
    "* Se aplicó el método de bootstrapping para evaluar los riesgos y ganancias, confirmando que la Región 1 ofrece el mejor equilibrio entre ingresos y riesgos.\n",
    "\n",
    "* La conclusión final del análisis es que la Región 1 es la opción óptima para las nuevas operaciones de perforación, basándose en los ingresos predichos y la ausencia de pozos no rentables en esta región.\n"
   ]
  },
  {
   "cell_type": "markdown",
   "metadata": {},
   "source": [
    "<div class=\"alert alert-block alert-success\">\n",
    "<b>Comentario del revisor</b> <a class=\"tocSkip\"></a>\n",
    "\n",
    "Gran trabajo con los ajustes! Que sigas disfrutando los siguientes cursos!\n",
    "</div>"
   ]
  }
 ],
 "metadata": {
  "ExecuteTimeLog": [
   {
    "duration": 5132,
    "start_time": "2024-07-29T15:39:34.105Z"
   },
   {
    "duration": 183,
    "start_time": "2024-07-29T15:39:39.241Z"
   },
   {
    "duration": 173,
    "start_time": "2024-07-29T15:39:39.426Z"
   },
   {
    "duration": 195,
    "start_time": "2024-07-29T15:39:39.604Z"
   },
   {
    "duration": 120,
    "start_time": "2024-07-29T15:39:39.803Z"
   },
   {
    "duration": 111,
    "start_time": "2024-07-29T15:39:39.926Z"
   },
   {
    "duration": 118,
    "start_time": "2024-07-29T15:39:40.041Z"
   },
   {
    "duration": 35,
    "start_time": "2024-07-29T15:39:40.162Z"
   },
   {
    "duration": 637,
    "start_time": "2024-07-29T15:39:40.200Z"
   },
   {
    "duration": 0,
    "start_time": "2024-07-29T15:39:40.840Z"
   },
   {
    "duration": 0,
    "start_time": "2024-07-29T15:39:40.842Z"
   },
   {
    "duration": 0,
    "start_time": "2024-07-29T15:39:40.844Z"
   },
   {
    "duration": 0,
    "start_time": "2024-07-29T15:39:40.846Z"
   },
   {
    "duration": 17,
    "start_time": "2024-07-29T15:41:36.447Z"
   },
   {
    "duration": 28,
    "start_time": "2024-07-29T15:42:44.633Z"
   },
   {
    "duration": 15,
    "start_time": "2024-07-29T15:42:49.347Z"
   },
   {
    "duration": 21,
    "start_time": "2024-07-29T15:42:54.960Z"
   },
   {
    "duration": 19,
    "start_time": "2024-07-29T15:43:00.247Z"
   },
   {
    "duration": 6705,
    "start_time": "2024-07-30T04:46:58.696Z"
   },
   {
    "duration": 272,
    "start_time": "2024-07-30T04:47:05.406Z"
   },
   {
    "duration": 227,
    "start_time": "2024-07-30T04:47:05.684Z"
   },
   {
    "duration": 254,
    "start_time": "2024-07-30T04:47:05.917Z"
   },
   {
    "duration": 205,
    "start_time": "2024-07-30T04:47:06.179Z"
   },
   {
    "duration": 200,
    "start_time": "2024-07-30T04:47:06.390Z"
   },
   {
    "duration": 219,
    "start_time": "2024-07-30T04:47:06.597Z"
   },
   {
    "duration": 36,
    "start_time": "2024-07-30T04:47:06.824Z"
   },
   {
    "duration": 71,
    "start_time": "2024-07-30T04:47:06.865Z"
   },
   {
    "duration": 117,
    "start_time": "2024-07-30T04:47:06.944Z"
   },
   {
    "duration": 26,
    "start_time": "2024-07-30T04:47:07.125Z"
   },
   {
    "duration": 93,
    "start_time": "2024-07-30T04:47:07.155Z"
   },
   {
    "duration": 91,
    "start_time": "2024-07-30T04:47:07.252Z"
   },
   {
    "duration": 813,
    "start_time": "2024-07-30T04:49:29.667Z"
   },
   {
    "duration": 109,
    "start_time": "2024-07-30T04:49:35.822Z"
   },
   {
    "duration": 179,
    "start_time": "2024-07-30T04:49:42.546Z"
   },
   {
    "duration": 13,
    "start_time": "2024-07-30T04:49:46.839Z"
   },
   {
    "duration": 35,
    "start_time": "2024-07-30T04:49:50.101Z"
   },
   {
    "duration": 178,
    "start_time": "2024-07-30T04:49:58.645Z"
   },
   {
    "duration": 30,
    "start_time": "2024-07-30T04:50:09.917Z"
   },
   {
    "duration": 54,
    "start_time": "2024-07-30T04:50:18.098Z"
   },
   {
    "duration": 119,
    "start_time": "2024-07-30T04:50:42.313Z"
   },
   {
    "duration": 31,
    "start_time": "2024-07-30T04:51:07.506Z"
   },
   {
    "duration": 19,
    "start_time": "2024-07-30T04:57:58.654Z"
   },
   {
    "duration": 27,
    "start_time": "2024-07-30T04:59:23.298Z"
   },
   {
    "duration": 42,
    "start_time": "2024-07-30T04:59:51.299Z"
   },
   {
    "duration": 19,
    "start_time": "2024-07-30T04:59:58.542Z"
   },
   {
    "duration": 77,
    "start_time": "2024-07-30T05:00:17.352Z"
   },
   {
    "duration": 69,
    "start_time": "2024-07-30T05:00:46.461Z"
   },
   {
    "duration": 19,
    "start_time": "2024-07-30T05:00:59.249Z"
   },
   {
    "duration": 3,
    "start_time": "2024-07-30T05:01:13.214Z"
   },
   {
    "duration": 7,
    "start_time": "2024-07-30T05:01:22.257Z"
   },
   {
    "duration": 14,
    "start_time": "2024-07-30T05:03:24.324Z"
   },
   {
    "duration": 20,
    "start_time": "2024-07-30T05:04:17.155Z"
   },
   {
    "duration": 26,
    "start_time": "2024-07-30T05:04:34.692Z"
   },
   {
    "duration": 31,
    "start_time": "2024-07-30T05:18:57.050Z"
   },
   {
    "duration": 9,
    "start_time": "2024-07-30T05:19:13.758Z"
   },
   {
    "duration": 6,
    "start_time": "2024-07-30T05:19:56.417Z"
   },
   {
    "duration": 6,
    "start_time": "2024-07-30T05:20:03.934Z"
   },
   {
    "duration": 5129,
    "start_time": "2024-08-02T22:10:23.647Z"
   },
   {
    "duration": 191,
    "start_time": "2024-08-02T22:10:28.780Z"
   },
   {
    "duration": 176,
    "start_time": "2024-08-02T22:10:28.974Z"
   },
   {
    "duration": 198,
    "start_time": "2024-08-02T22:10:29.152Z"
   },
   {
    "duration": 114,
    "start_time": "2024-08-02T22:10:29.355Z"
   },
   {
    "duration": 110,
    "start_time": "2024-08-02T22:10:29.472Z"
   },
   {
    "duration": 110,
    "start_time": "2024-08-02T22:10:29.585Z"
   },
   {
    "duration": 28,
    "start_time": "2024-08-02T22:10:29.698Z"
   },
   {
    "duration": 17,
    "start_time": "2024-08-02T22:10:29.729Z"
   },
   {
    "duration": 6,
    "start_time": "2024-08-02T22:10:29.748Z"
   },
   {
    "duration": 7,
    "start_time": "2024-08-02T22:10:29.827Z"
   },
   {
    "duration": 100,
    "start_time": "2024-08-02T22:10:29.836Z"
   },
   {
    "duration": 18,
    "start_time": "2024-08-02T22:10:29.939Z"
   },
   {
    "duration": 81,
    "start_time": "2024-08-02T22:10:29.963Z"
   },
   {
    "duration": 92,
    "start_time": "2024-08-02T22:10:30.047Z"
   },
   {
    "duration": 5041,
    "start_time": "2024-08-03T14:17:49.776Z"
   },
   {
    "duration": 188,
    "start_time": "2024-08-03T14:17:54.821Z"
   },
   {
    "duration": 179,
    "start_time": "2024-08-03T14:17:55.012Z"
   },
   {
    "duration": 207,
    "start_time": "2024-08-03T14:17:55.196Z"
   },
   {
    "duration": 111,
    "start_time": "2024-08-03T14:17:55.406Z"
   },
   {
    "duration": 97,
    "start_time": "2024-08-03T14:17:55.520Z"
   },
   {
    "duration": 109,
    "start_time": "2024-08-03T14:17:55.632Z"
   },
   {
    "duration": 19,
    "start_time": "2024-08-03T14:17:55.744Z"
   },
   {
    "duration": 69,
    "start_time": "2024-08-03T14:17:55.766Z"
   },
   {
    "duration": 6,
    "start_time": "2024-08-03T14:17:55.840Z"
   },
   {
    "duration": 86,
    "start_time": "2024-08-03T14:17:55.849Z"
   },
   {
    "duration": 20,
    "start_time": "2024-08-03T14:17:55.938Z"
   },
   {
    "duration": 72,
    "start_time": "2024-08-03T14:17:55.961Z"
   },
   {
    "duration": 98,
    "start_time": "2024-08-03T14:17:56.035Z"
   },
   {
    "duration": 18,
    "start_time": "2024-08-03T14:17:56.136Z"
   },
   {
    "duration": 6,
    "start_time": "2024-08-03T14:28:35.575Z"
   },
   {
    "duration": 9,
    "start_time": "2024-08-03T14:54:57.447Z"
   },
   {
    "duration": 18,
    "start_time": "2024-08-03T14:55:35.510Z"
   },
   {
    "duration": 17,
    "start_time": "2024-08-03T14:55:51.952Z"
   },
   {
    "duration": 19,
    "start_time": "2024-08-03T14:56:04.388Z"
   },
   {
    "duration": 30,
    "start_time": "2024-08-03T14:57:11.626Z"
   },
   {
    "duration": 4975,
    "start_time": "2024-08-03T15:50:55.532Z"
   },
   {
    "duration": 237,
    "start_time": "2024-08-03T15:51:00.511Z"
   },
   {
    "duration": 166,
    "start_time": "2024-08-03T15:51:00.751Z"
   },
   {
    "duration": 173,
    "start_time": "2024-08-03T15:51:00.920Z"
   },
   {
    "duration": 110,
    "start_time": "2024-08-03T15:51:01.108Z"
   },
   {
    "duration": 108,
    "start_time": "2024-08-03T15:51:01.222Z"
   },
   {
    "duration": 110,
    "start_time": "2024-08-03T15:51:01.333Z"
   },
   {
    "duration": 20,
    "start_time": "2024-08-03T15:51:01.445Z"
   },
   {
    "duration": 618,
    "start_time": "2024-08-03T15:51:01.469Z"
   },
   {
    "duration": 0,
    "start_time": "2024-08-03T15:51:02.090Z"
   },
   {
    "duration": 0,
    "start_time": "2024-08-03T15:51:02.093Z"
   },
   {
    "duration": 0,
    "start_time": "2024-08-03T15:51:02.108Z"
   },
   {
    "duration": 0,
    "start_time": "2024-08-03T15:51:02.111Z"
   },
   {
    "duration": 0,
    "start_time": "2024-08-03T15:51:02.114Z"
   },
   {
    "duration": 0,
    "start_time": "2024-08-03T15:51:02.117Z"
   },
   {
    "duration": 111,
    "start_time": "2024-08-03T15:51:19.404Z"
   },
   {
    "duration": 16,
    "start_time": "2024-08-03T15:52:14.870Z"
   },
   {
    "duration": 24,
    "start_time": "2024-08-03T15:52:36.565Z"
   },
   {
    "duration": 23,
    "start_time": "2024-08-03T15:52:46.581Z"
   },
   {
    "duration": 20,
    "start_time": "2024-08-03T15:52:50.529Z"
   },
   {
    "duration": 34,
    "start_time": "2024-08-03T15:53:06.552Z"
   },
   {
    "duration": 16,
    "start_time": "2024-08-03T15:54:47.579Z"
   },
   {
    "duration": 6,
    "start_time": "2024-08-03T15:55:16.615Z"
   },
   {
    "duration": 5,
    "start_time": "2024-08-03T15:59:17.808Z"
   },
   {
    "duration": 9,
    "start_time": "2024-08-03T15:59:37.382Z"
   },
   {
    "duration": 6,
    "start_time": "2024-08-03T15:59:47.626Z"
   },
   {
    "duration": 6,
    "start_time": "2024-08-03T16:00:31.808Z"
   },
   {
    "duration": 15,
    "start_time": "2024-08-03T16:03:07.159Z"
   },
   {
    "duration": 5,
    "start_time": "2024-08-03T16:05:23.708Z"
   },
   {
    "duration": 7,
    "start_time": "2024-08-03T16:07:12.147Z"
   },
   {
    "duration": 20,
    "start_time": "2024-08-03T16:07:25.483Z"
   },
   {
    "duration": 26,
    "start_time": "2024-08-03T16:07:46.202Z"
   },
   {
    "duration": 22,
    "start_time": "2024-08-03T16:08:38.931Z"
   },
   {
    "duration": 5,
    "start_time": "2024-08-03T16:10:47.793Z"
   },
   {
    "duration": 7,
    "start_time": "2024-08-03T16:11:14.586Z"
   },
   {
    "duration": 4,
    "start_time": "2024-08-03T16:12:40.837Z"
   },
   {
    "duration": 17,
    "start_time": "2024-08-03T16:16:09.352Z"
   },
   {
    "duration": 51,
    "start_time": "2024-08-03T16:18:09.384Z"
   },
   {
    "duration": 58,
    "start_time": "2024-08-03T16:18:17.832Z"
   },
   {
    "duration": 7,
    "start_time": "2024-08-03T16:18:49.053Z"
   },
   {
    "duration": 5,
    "start_time": "2024-08-03T16:19:09.848Z"
   },
   {
    "duration": 7,
    "start_time": "2024-08-03T16:19:48.907Z"
   },
   {
    "duration": 17,
    "start_time": "2024-08-03T16:21:41.340Z"
   },
   {
    "duration": 4,
    "start_time": "2024-08-03T16:21:55.536Z"
   },
   {
    "duration": 14,
    "start_time": "2024-08-03T16:21:58.607Z"
   },
   {
    "duration": 21,
    "start_time": "2024-08-03T16:22:13.318Z"
   },
   {
    "duration": 14,
    "start_time": "2024-08-03T16:22:16.610Z"
   },
   {
    "duration": 21,
    "start_time": "2024-08-03T16:22:21.360Z"
   },
   {
    "duration": 15,
    "start_time": "2024-08-03T16:22:31.750Z"
   },
   {
    "duration": 6,
    "start_time": "2024-08-03T16:35:15.034Z"
   },
   {
    "duration": 23,
    "start_time": "2024-08-03T16:35:19.167Z"
   },
   {
    "duration": 17,
    "start_time": "2024-08-03T16:35:24.770Z"
   },
   {
    "duration": 4,
    "start_time": "2024-08-03T16:35:27.572Z"
   },
   {
    "duration": 22,
    "start_time": "2024-08-03T16:35:30.405Z"
   },
   {
    "duration": 16,
    "start_time": "2024-08-03T16:36:02.578Z"
   },
   {
    "duration": 6,
    "start_time": "2024-08-03T16:36:13.395Z"
   },
   {
    "duration": 24,
    "start_time": "2024-08-03T16:36:16.891Z"
   },
   {
    "duration": 5,
    "start_time": "2024-08-03T16:36:27.828Z"
   },
   {
    "duration": 6,
    "start_time": "2024-08-03T16:36:38.191Z"
   },
   {
    "duration": 5,
    "start_time": "2024-08-03T16:36:47.516Z"
   },
   {
    "duration": 5,
    "start_time": "2024-08-03T16:36:54.179Z"
   },
   {
    "duration": 19,
    "start_time": "2024-08-03T16:37:09.390Z"
   },
   {
    "duration": 39,
    "start_time": "2024-08-03T16:37:41.679Z"
   },
   {
    "duration": 38,
    "start_time": "2024-08-03T16:38:06.034Z"
   },
   {
    "duration": 29,
    "start_time": "2024-08-03T16:38:35.122Z"
   },
   {
    "duration": 41,
    "start_time": "2024-08-03T16:38:41.065Z"
   },
   {
    "duration": 32,
    "start_time": "2024-08-03T16:39:11.102Z"
   },
   {
    "duration": 34,
    "start_time": "2024-08-03T16:39:22.937Z"
   },
   {
    "duration": 32,
    "start_time": "2024-08-03T16:39:28.680Z"
   },
   {
    "duration": 27,
    "start_time": "2024-08-03T16:39:33.026Z"
   },
   {
    "duration": 40,
    "start_time": "2024-08-03T16:39:40.946Z"
   },
   {
    "duration": 39,
    "start_time": "2024-08-03T16:41:24.570Z"
   },
   {
    "duration": 41,
    "start_time": "2024-08-03T16:43:01.370Z"
   },
   {
    "duration": 30,
    "start_time": "2024-08-03T16:44:23.688Z"
   },
   {
    "duration": 33,
    "start_time": "2024-08-03T16:44:27.453Z"
   },
   {
    "duration": 32,
    "start_time": "2024-08-03T16:49:05.859Z"
   },
   {
    "duration": 31,
    "start_time": "2024-08-03T16:49:18.248Z"
   },
   {
    "duration": 11,
    "start_time": "2024-08-03T16:52:15.471Z"
   },
   {
    "duration": 29,
    "start_time": "2024-08-03T16:52:22.578Z"
   },
   {
    "duration": 31,
    "start_time": "2024-08-03T16:52:41.339Z"
   },
   {
    "duration": 30,
    "start_time": "2024-08-03T16:53:22.151Z"
   },
   {
    "duration": 71,
    "start_time": "2024-08-03T16:54:24.142Z"
   },
   {
    "duration": 93,
    "start_time": "2024-08-03T16:54:49.544Z"
   },
   {
    "duration": 71,
    "start_time": "2024-08-03T16:54:58.795Z"
   },
   {
    "duration": 7,
    "start_time": "2024-08-03T16:55:08.619Z"
   },
   {
    "duration": 73,
    "start_time": "2024-08-03T16:55:12.327Z"
   },
   {
    "duration": 95,
    "start_time": "2024-08-03T16:58:04.972Z"
   },
   {
    "duration": 280,
    "start_time": "2024-08-03T16:58:29.745Z"
   },
   {
    "duration": 178,
    "start_time": "2024-08-03T16:59:13.098Z"
   },
   {
    "duration": 271,
    "start_time": "2024-08-03T16:59:27.147Z"
   },
   {
    "duration": 253,
    "start_time": "2024-08-03T16:59:57.055Z"
   },
   {
    "duration": 239,
    "start_time": "2024-08-03T17:05:00.318Z"
   },
   {
    "duration": 238,
    "start_time": "2024-08-03T17:05:24.308Z"
   },
   {
    "duration": 239,
    "start_time": "2024-08-03T17:06:40.620Z"
   },
   {
    "duration": 234,
    "start_time": "2024-08-03T17:07:52.339Z"
   },
   {
    "duration": 157,
    "start_time": "2024-08-03T18:19:27.460Z"
   },
   {
    "duration": 144,
    "start_time": "2024-08-03T18:23:36.265Z"
   },
   {
    "duration": 5,
    "start_time": "2024-08-03T18:27:05.186Z"
   },
   {
    "duration": 24,
    "start_time": "2024-08-03T18:27:10.966Z"
   },
   {
    "duration": 24,
    "start_time": "2024-08-03T18:27:23.867Z"
   },
   {
    "duration": 24,
    "start_time": "2024-08-03T18:27:34.886Z"
   },
   {
    "duration": 6,
    "start_time": "2024-08-03T18:27:42.356Z"
   },
   {
    "duration": 24,
    "start_time": "2024-08-03T18:28:14.272Z"
   },
   {
    "duration": 7,
    "start_time": "2024-08-03T18:28:31.172Z"
   },
   {
    "duration": 8,
    "start_time": "2024-08-03T18:32:54.814Z"
   },
   {
    "duration": 6,
    "start_time": "2024-08-03T18:33:45.471Z"
   },
   {
    "duration": 7,
    "start_time": "2024-08-03T18:33:49.852Z"
   },
   {
    "duration": 5,
    "start_time": "2024-08-03T18:34:06.774Z"
   },
   {
    "duration": 4,
    "start_time": "2024-08-03T18:34:16.416Z"
   },
   {
    "duration": 24,
    "start_time": "2024-08-03T18:34:22.548Z"
   },
   {
    "duration": 7,
    "start_time": "2024-08-03T18:34:31.413Z"
   },
   {
    "duration": 23,
    "start_time": "2024-08-03T18:34:34.882Z"
   },
   {
    "duration": 8,
    "start_time": "2024-08-03T18:39:05.187Z"
   },
   {
    "duration": 8,
    "start_time": "2024-08-03T18:39:24.324Z"
   },
   {
    "duration": 7,
    "start_time": "2024-08-03T18:39:39.465Z"
   },
   {
    "duration": 6,
    "start_time": "2024-08-03T18:40:02.181Z"
   },
   {
    "duration": 7,
    "start_time": "2024-08-03T18:40:07.828Z"
   },
   {
    "duration": 24,
    "start_time": "2024-08-03T18:40:23.788Z"
   },
   {
    "duration": 38,
    "start_time": "2024-08-03T18:40:29.607Z"
   },
   {
    "duration": 7,
    "start_time": "2024-08-03T18:40:35.156Z"
   },
   {
    "duration": 4,
    "start_time": "2024-08-03T18:41:54.525Z"
   },
   {
    "duration": 8,
    "start_time": "2024-08-03T18:41:57.512Z"
   },
   {
    "duration": 8,
    "start_time": "2024-08-03T18:42:07.722Z"
   },
   {
    "duration": 6,
    "start_time": "2024-08-03T18:42:14.369Z"
   },
   {
    "duration": 10,
    "start_time": "2024-08-03T18:42:26.988Z"
   },
   {
    "duration": 7,
    "start_time": "2024-08-03T18:42:33.032Z"
   },
   {
    "duration": 8,
    "start_time": "2024-08-03T18:42:42.658Z"
   },
   {
    "duration": 9,
    "start_time": "2024-08-03T18:42:53.007Z"
   },
   {
    "duration": 6,
    "start_time": "2024-08-03T18:43:00.397Z"
   },
   {
    "duration": 6,
    "start_time": "2024-08-03T18:45:04.266Z"
   },
   {
    "duration": 11,
    "start_time": "2024-08-03T18:45:14.324Z"
   },
   {
    "duration": 9,
    "start_time": "2024-08-03T18:47:31.527Z"
   },
   {
    "duration": 9,
    "start_time": "2024-08-03T18:48:11.026Z"
   },
   {
    "duration": 10,
    "start_time": "2024-08-03T18:48:17.196Z"
   },
   {
    "duration": 7,
    "start_time": "2024-08-03T18:48:21.710Z"
   },
   {
    "duration": 212,
    "start_time": "2024-08-03T18:50:33.249Z"
   },
   {
    "duration": 169,
    "start_time": "2024-08-03T18:51:10.136Z"
   },
   {
    "duration": 175,
    "start_time": "2024-08-03T18:55:03.629Z"
   },
   {
    "duration": 170,
    "start_time": "2024-08-03T18:55:50.545Z"
   },
   {
    "duration": 31,
    "start_time": "2024-08-03T19:00:50.746Z"
   },
   {
    "duration": 1627,
    "start_time": "2024-08-03T19:01:33.794Z"
   },
   {
    "duration": 30,
    "start_time": "2024-08-03T19:03:50.339Z"
   },
   {
    "duration": 10,
    "start_time": "2024-08-03T19:04:16.602Z"
   },
   {
    "duration": 6,
    "start_time": "2024-08-03T19:04:20.980Z"
   },
   {
    "duration": 1601,
    "start_time": "2024-08-03T19:06:30.822Z"
   },
   {
    "duration": 11,
    "start_time": "2024-08-03T19:06:41.850Z"
   },
   {
    "duration": 1676,
    "start_time": "2024-08-03T19:06:43.909Z"
   },
   {
    "duration": 1662,
    "start_time": "2024-08-03T19:07:54.580Z"
   },
   {
    "duration": 1597,
    "start_time": "2024-08-03T19:08:15.401Z"
   },
   {
    "duration": 1607,
    "start_time": "2024-08-03T19:08:18.904Z"
   },
   {
    "duration": 1609,
    "start_time": "2024-08-03T19:08:23.047Z"
   },
   {
    "duration": 1675,
    "start_time": "2024-08-03T19:09:43.890Z"
   },
   {
    "duration": 3255,
    "start_time": "2024-08-03T19:10:13.158Z"
   },
   {
    "duration": 4836,
    "start_time": "2024-08-03T19:10:50.566Z"
   },
   {
    "duration": 6,
    "start_time": "2024-08-03T19:12:15.884Z"
   },
   {
    "duration": 6,
    "start_time": "2024-08-03T19:12:19.692Z"
   },
   {
    "duration": 7,
    "start_time": "2024-08-03T19:12:22.819Z"
   },
   {
    "duration": 4764,
    "start_time": "2024-08-03T19:16:38.410Z"
   },
   {
    "duration": 5163,
    "start_time": "2024-08-03T19:18:02.690Z"
   },
   {
    "duration": 7,
    "start_time": "2024-08-03T19:20:20.642Z"
   },
   {
    "duration": 4776,
    "start_time": "2024-08-03T19:21:57.572Z"
   },
   {
    "duration": 4818,
    "start_time": "2024-08-03T19:22:32.364Z"
   },
   {
    "duration": 7,
    "start_time": "2024-08-03T19:24:36.893Z"
   },
   {
    "duration": 26,
    "start_time": "2024-08-03T19:26:31.467Z"
   },
   {
    "duration": 142,
    "start_time": "2024-08-03T19:27:59.266Z"
   },
   {
    "duration": 122,
    "start_time": "2024-08-03T19:28:07.060Z"
   },
   {
    "duration": 122,
    "start_time": "2024-08-03T19:28:44.220Z"
   },
   {
    "duration": 134,
    "start_time": "2024-08-03T19:28:50.178Z"
   },
   {
    "duration": 164,
    "start_time": "2024-08-03T19:29:04.502Z"
   },
   {
    "duration": 136,
    "start_time": "2024-08-03T19:29:27.298Z"
   },
   {
    "duration": 134,
    "start_time": "2024-08-03T19:29:41.011Z"
   },
   {
    "duration": 122,
    "start_time": "2024-08-03T19:29:50.035Z"
   },
   {
    "duration": 125,
    "start_time": "2024-08-03T19:30:06.017Z"
   },
   {
    "duration": 131,
    "start_time": "2024-08-03T19:30:12.664Z"
   },
   {
    "duration": 1142,
    "start_time": "2024-08-03T19:34:02.370Z"
   },
   {
    "duration": 280,
    "start_time": "2024-08-03T19:34:25.415Z"
   },
   {
    "duration": 196,
    "start_time": "2024-08-03T19:34:42.653Z"
   },
   {
    "duration": 174,
    "start_time": "2024-08-03T19:37:18.840Z"
   },
   {
    "duration": 5,
    "start_time": "2024-08-03T19:37:39.717Z"
   },
   {
    "duration": 5,
    "start_time": "2024-08-03T19:37:44.784Z"
   },
   {
    "duration": 9,
    "start_time": "2024-08-03T19:37:48.083Z"
   },
   {
    "duration": 7,
    "start_time": "2024-08-03T19:37:55.985Z"
   },
   {
    "duration": 177,
    "start_time": "2024-08-03T19:38:56.021Z"
   },
   {
    "duration": 10,
    "start_time": "2024-08-03T19:39:10.526Z"
   },
   {
    "duration": 1768,
    "start_time": "2024-08-03T19:41:19.713Z"
   },
   {
    "duration": 7,
    "start_time": "2024-08-03T19:43:17.519Z"
   },
   {
    "duration": 614,
    "start_time": "2024-08-03T19:44:03.542Z"
   },
   {
    "duration": 7,
    "start_time": "2024-08-03T19:44:29.710Z"
   },
   {
    "duration": 6,
    "start_time": "2024-08-03T19:44:37.103Z"
   },
   {
    "duration": 6,
    "start_time": "2024-08-03T19:44:50.418Z"
   },
   {
    "duration": 5,
    "start_time": "2024-08-03T19:44:54.773Z"
   },
   {
    "duration": 7,
    "start_time": "2024-08-03T19:47:26.654Z"
   },
   {
    "duration": 32,
    "start_time": "2024-08-03T19:50:28.633Z"
   },
   {
    "duration": 169,
    "start_time": "2024-08-03T19:51:28.191Z"
   },
   {
    "duration": 6,
    "start_time": "2024-08-03T19:54:51.811Z"
   },
   {
    "duration": 6,
    "start_time": "2024-08-03T19:59:22.688Z"
   },
   {
    "duration": 161,
    "start_time": "2024-08-03T19:59:22.698Z"
   },
   {
    "duration": 150,
    "start_time": "2024-08-03T19:59:22.862Z"
   },
   {
    "duration": 144,
    "start_time": "2024-08-03T19:59:23.017Z"
   },
   {
    "duration": 118,
    "start_time": "2024-08-03T19:59:23.164Z"
   },
   {
    "duration": 108,
    "start_time": "2024-08-03T19:59:23.285Z"
   },
   {
    "duration": 117,
    "start_time": "2024-08-03T19:59:23.396Z"
   },
   {
    "duration": 22,
    "start_time": "2024-08-03T19:59:23.517Z"
   },
   {
    "duration": 18,
    "start_time": "2024-08-03T19:59:23.545Z"
   },
   {
    "duration": 45,
    "start_time": "2024-08-03T19:59:23.565Z"
   },
   {
    "duration": 6,
    "start_time": "2024-08-03T19:59:23.613Z"
   },
   {
    "duration": 92,
    "start_time": "2024-08-03T19:59:23.622Z"
   },
   {
    "duration": 14,
    "start_time": "2024-08-03T19:59:23.717Z"
   },
   {
    "duration": 5,
    "start_time": "2024-08-03T19:59:23.734Z"
   },
   {
    "duration": 11,
    "start_time": "2024-08-03T19:59:23.808Z"
   },
   {
    "duration": 95,
    "start_time": "2024-08-03T19:59:23.823Z"
   },
   {
    "duration": 17,
    "start_time": "2024-08-03T19:59:23.921Z"
   },
   {
    "duration": 4,
    "start_time": "2024-08-03T19:59:23.941Z"
   },
   {
    "duration": 61,
    "start_time": "2024-08-03T19:59:23.949Z"
   },
   {
    "duration": 227,
    "start_time": "2024-08-03T19:59:24.014Z"
   },
   {
    "duration": 8,
    "start_time": "2024-08-03T19:59:24.243Z"
   },
   {
    "duration": 8,
    "start_time": "2024-08-03T19:59:24.253Z"
   },
   {
    "duration": 208,
    "start_time": "2024-08-03T19:59:24.264Z"
   },
   {
    "duration": 1804,
    "start_time": "2024-08-03T19:59:24.478Z"
   },
   {
    "duration": 179,
    "start_time": "2024-08-03T19:59:26.285Z"
   },
   {
    "duration": 5,
    "start_time": "2024-08-03T19:59:26.467Z"
   },
   {
    "duration": 328,
    "start_time": "2024-08-09T03:44:57.838Z"
   },
   {
    "duration": 5420,
    "start_time": "2024-08-09T03:45:04.004Z"
   },
   {
    "duration": 210,
    "start_time": "2024-08-09T03:45:09.428Z"
   },
   {
    "duration": 187,
    "start_time": "2024-08-09T03:45:09.641Z"
   },
   {
    "duration": 191,
    "start_time": "2024-08-09T03:45:09.836Z"
   },
   {
    "duration": 359,
    "start_time": "2024-08-09T03:45:10.030Z"
   },
   {
    "duration": 122,
    "start_time": "2024-08-09T03:45:10.391Z"
   },
   {
    "duration": 106,
    "start_time": "2024-08-09T03:45:10.518Z"
   },
   {
    "duration": 21,
    "start_time": "2024-08-09T03:45:10.637Z"
   },
   {
    "duration": 24,
    "start_time": "2024-08-09T03:45:10.661Z"
   },
   {
    "duration": 50,
    "start_time": "2024-08-09T03:45:10.691Z"
   },
   {
    "duration": 13,
    "start_time": "2024-08-09T03:45:10.747Z"
   },
   {
    "duration": 81,
    "start_time": "2024-08-09T03:45:10.764Z"
   },
   {
    "duration": 21,
    "start_time": "2024-08-09T03:45:10.849Z"
   },
   {
    "duration": 6,
    "start_time": "2024-08-09T03:45:10.873Z"
   },
   {
    "duration": 8,
    "start_time": "2024-08-09T03:45:10.935Z"
   },
   {
    "duration": 93,
    "start_time": "2024-08-09T03:45:10.947Z"
   },
   {
    "duration": 17,
    "start_time": "2024-08-09T03:45:11.043Z"
   },
   {
    "duration": 4,
    "start_time": "2024-08-09T03:45:11.063Z"
   },
   {
    "duration": 6,
    "start_time": "2024-08-09T03:45:11.069Z"
   },
   {
    "duration": 286,
    "start_time": "2024-08-09T03:45:11.078Z"
   },
   {
    "duration": 9,
    "start_time": "2024-08-09T03:45:11.368Z"
   },
   {
    "duration": 223,
    "start_time": "2024-08-09T03:45:11.380Z"
   },
   {
    "duration": 1838,
    "start_time": "2024-08-09T03:45:11.606Z"
   },
   {
    "duration": 187,
    "start_time": "2024-08-09T03:45:13.447Z"
   },
   {
    "duration": 6,
    "start_time": "2024-08-09T03:45:13.637Z"
   },
   {
    "duration": 234,
    "start_time": "2024-08-09T03:46:11.412Z"
   },
   {
    "duration": 240,
    "start_time": "2024-08-09T03:46:28.259Z"
   },
   {
    "duration": 237,
    "start_time": "2024-08-09T03:48:23.382Z"
   },
   {
    "duration": 241,
    "start_time": "2024-08-09T03:49:18.720Z"
   },
   {
    "duration": 269,
    "start_time": "2024-08-09T03:49:36.575Z"
   }
  ],
  "kernelspec": {
   "display_name": "Python 3 (ipykernel)",
   "language": "python",
   "name": "python3"
  },
  "language_info": {
   "codemirror_mode": {
    "name": "ipython",
    "version": 3
   },
   "file_extension": ".py",
   "mimetype": "text/x-python",
   "name": "python",
   "nbconvert_exporter": "python",
   "pygments_lexer": "ipython3",
   "version": "3.9.19"
  },
  "toc": {
   "base_numbering": 1,
   "nav_menu": {},
   "number_sections": true,
   "sideBar": true,
   "skip_h1_title": true,
   "title_cell": "Table of Contents",
   "title_sidebar": "Contents",
   "toc_cell": false,
   "toc_position": {
    "height": "calc(100% - 180px)",
    "left": "10px",
    "top": "150px",
    "width": "252.797px"
   },
   "toc_section_display": true,
   "toc_window_display": false
  }
 },
 "nbformat": 4,
 "nbformat_minor": 2
}
